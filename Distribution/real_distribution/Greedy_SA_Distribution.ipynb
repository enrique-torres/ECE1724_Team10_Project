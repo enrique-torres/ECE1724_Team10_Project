{
 "cells": [
  {
   "cell_type": "markdown",
   "metadata": {
    "id": "QlhCRdnX00cR"
   },
   "source": [
    "## Imports and preprocessing"
   ]
  },
  {
   "cell_type": "code",
   "execution_count": 1,
   "metadata": {
    "id": "n6euHm_h4Voi"
   },
   "outputs": [],
   "source": [
    "%matplotlib inline\n",
    "import scipy\n",
    "import numpy as np\n",
    "import itertools\n",
    "import pandas as pd\n",
    "import matplotlib.pyplot as plt"
   ]
  },
  {
   "cell_type": "markdown",
   "metadata": {},
   "source": [
    "# Largest Piece First First Fit"
   ]
  },
  {
   "cell_type": "code",
   "execution_count": 2,
   "metadata": {
    "colab": {
     "base_uri": "https://localhost:8080/"
    },
    "id": "E65KHOjz5axT",
    "outputId": "7a94cd6b-b475-4e0e-d6c3-113cee70e4e2"
   },
   "outputs": [
    {
     "name": "stdout",
     "output_type": "stream",
     "text": [
      "['Node ID', 'Node OSMID', 'X', 'Y', 'Node Weight', 'demand']\n"
     ]
    }
   ],
   "source": [
    "df = pd.read_csv(\"/Users/yilunli/Desktop/ECE1724_Team10_Project/DatasetGen/synthetic_dataset.csv\")\n",
    "df.rename(columns = {'Number Deliveries':'demand'}, inplace=True)\n",
    "df.sort_values(by=['demand'], ascending=False, inplace=True)\n",
    "print(df.columns.tolist())\n",
    "demands = df[\"demand\"]\n",
    "df = df[[\"X\", \"Y\"]]\n",
    "df[\"Y\"] -= 3000\n",
    "data = df.to_numpy()\n",
    "\n",
    "facilities = pd.read_csv(\"/Users/yilunli/Desktop/ECE1724_Team10_Project/Algorithms/GA/mut0.9_covr0.8_ga_locations.csv\")\n",
    "facilities = facilities[[\"x\", \"y\"]]\n",
    "facilities[\"y\"] -= 3000\n",
    "depots = facilities.to_numpy()"
   ]
  },
  {
   "cell_type": "code",
   "execution_count": 3,
   "metadata": {},
   "outputs": [],
   "source": [
    "min_bid_rent_multiplier = 0.7\n",
    "max_distance_to_dtwn = np.sqrt(12392630.812723137)\n",
    "min_distance_to_dtwn = 0 #np.sqrt(8665726.939704213)\n",
    "\n",
    "# print(min_distance_to_dtwn)"
   ]
  },
  {
   "cell_type": "code",
   "execution_count": 4,
   "metadata": {},
   "outputs": [],
   "source": [
    "capacity_perfacility = 1200\n",
    "capacities = capacity_perfacility * np.ones(depots.shape[0])\n",
    "def get_multiplier(min_bid_rent_multiplier, min_distance_to_dtwn, max_distance_to_dtwn, distances):\n",
    "    return (1 - min_bid_rent_multiplier *\\\n",
    "                 (distances - min_distance_to_dtwn)\\\n",
    "            / (max_distance_to_dtwn - min_distance_to_dtwn)) * distances"
   ]
  },
  {
   "cell_type": "code",
   "execution_count": 5,
   "metadata": {},
   "outputs": [],
   "source": [
    "result = np.zeros((data.shape[0], depots.shape[0]))\n",
    "cost = 0\n",
    "for i in range(data.shape[0]):\n",
    "    node = data[i]\n",
    "    distances = np.linalg.norm(depots - node, axis=1)\n",
    "    distances = get_multiplier(min_bid_rent_multiplier, min_distance_to_dtwn, max_distance_to_dtwn, distances)\n",
    "    min_distance_depot = np.argsort(distances)\n",
    "    for j in min_distance_depot:\n",
    "        if capacities[j] == 0:\n",
    "            continue\n",
    "        if capacities[j] >= demands[i]:\n",
    "            cost += distances[j] * (demands[i]/1200)\n",
    "            result[i][j] += demands[i]\n",
    "            capacities[j] -= demands[i]\n",
    "            demands[i] = 0\n",
    "            break\n",
    "        else:\n",
    "            cost += distances[j] * (demands[i]/1200)\n",
    "            result[i][j] += capacities[j]\n",
    "            demands[i] -= capacities[j]\n",
    "            capacities[j] = 0\n",
    "        if demands[i] <= 0:\n",
    "            break"
   ]
  },
  {
   "cell_type": "markdown",
   "metadata": {
    "id": "rI8GkdHJ5h7J"
   },
   "source": [
    "Verification"
   ]
  },
  {
   "cell_type": "code",
   "execution_count": 6,
   "metadata": {},
   "outputs": [
    {
     "name": "stdout",
     "output_type": "stream",
     "text": [
      "total cost: 113342.8897969506\n",
      "left over capacities: 6800.0\n",
      "remaining demand: 0\n"
     ]
    }
   ],
   "source": [
    "print(f\"total cost: {cost}\")\n",
    "print(f\"left over capacities: {np.sum(capacities[np.nonzero(capacities)[0]])}\")\n",
    "print(f\"remaining demand: {np.sum(demands)}\")"
   ]
  },
  {
   "cell_type": "markdown",
   "metadata": {},
   "source": [
    "# SA"
   ]
  },
  {
   "cell_type": "code",
   "execution_count": 13,
   "metadata": {},
   "outputs": [
    {
     "name": "stdout",
     "output_type": "stream",
     "text": [
      "['Node ID', 'Node OSMID', 'X', 'Y', 'Node Weight', 'demand']\n"
     ]
    }
   ],
   "source": [
    "df = pd.read_csv(\"/Users/yilunli/Desktop/ECE1724_Team10_Project/DatasetGen/synthetic_dataset.csv\")\n",
    "df.rename(columns = {'Number Deliveries':'demand'}, inplace=True)\n",
    "df.sort_values(by=['demand'], ascending=False, inplace=True)\n",
    "print(df.columns.tolist())\n",
    "demands = df[\"demand\"].to_numpy()\n",
    "df = df[[\"X\", \"Y\"]]\n",
    "df[\"Y\"] -= 3000\n",
    "data = df.to_numpy()\n",
    "\n",
    "facilities = pd.read_csv(\"/Users/yilunli/Desktop/ECE1724_Team10_Project/Algorithms/GA/mut0.9_covr0.8_ga_locations.csv\")\n",
    "facilities = facilities[[\"x\", \"y\"]]\n",
    "facilities[\"y\"] -= 3000\n",
    "depots = facilities.to_numpy()"
   ]
  },
  {
   "cell_type": "code",
   "execution_count": 14,
   "metadata": {
    "id": "Pr5BmIjOnRC6"
   },
   "outputs": [],
   "source": [
    "import math\n",
    "import random\n",
    "\n",
    "def exp_schedule(k=20, lam=0.005, limit=100):\n",
    "    function = lambda t: (k * np.exp(-lam*t) if t <limit else 0)\n",
    "    return function\n",
    "\n",
    "def random_search(coords, volumes, locations): \n",
    "    cap = capacity_perfacility * np.ones(locations.shape[0])\n",
    "    indices = np.arange(coords.shape[0])\n",
    "    np.random.shuffle(indices)\n",
    "    da, ds = np.copy(coords)[indices], np.copy(volumes)[indices]\n",
    "    r = np.zeros((da.shape[0], locations.shape[0]))\n",
    "    c = 0\n",
    "    for i in range(da.shape[0]):\n",
    "        node = da[i]\n",
    "        distances = np.linalg.norm(locations - node, axis=1)\n",
    "        distances = get_multiplier(min_bid_rent_multiplier, min_distance_to_dtwn, max_distance_to_dtwn, distances)\n",
    "        min_distance_depot = np.argsort(distances)\n",
    "        for j in min_distance_depot:\n",
    "            if cap[j] == 0:\n",
    "                continue\n",
    "            if cap[j] >= ds[i]:\n",
    "                c += distances[j] * (ds[i]/1200)\n",
    "                r[i][j] += ds[i]\n",
    "                cap[j] -= ds[i]\n",
    "                ds[i] = 0\n",
    "                break\n",
    "            else:\n",
    "                c += distances[j] * (ds[i]/1200)\n",
    "                r[i][j] += cap[j]\n",
    "                ds[i] -= cap[j]\n",
    "                cap[j] = 0\n",
    "            if ds[i] <= 0:\n",
    "                break\n",
    "    return r, c"
   ]
  },
  {
   "cell_type": "code",
   "execution_count": 15,
   "metadata": {
    "colab": {
     "base_uri": "https://localhost:8080/"
    },
    "id": "BZ9SVgIEzzXn",
    "outputId": "daa49bd3-68ba-4066-9498-f57fc196693d"
   },
   "outputs": [],
   "source": [
    "from smart_mobility_utilities.common import probability\n",
    "\n",
    "def simulated_annealing(initial_solution, num_iter, schedule_function, neighbour_function, coords, volume, locations):\n",
    "    current, current_cost = initial_solution\n",
    "    assert(current_cost != 0)\n",
    "    states = [current_cost]\n",
    "    for t in range(num_iter):\n",
    "        T = schedule_function(t)\n",
    "        next_choice, next_cost = neighbour_function(coords, volume, locations)\n",
    "        current_cost = states[-1]\n",
    "        delta_e = next_cost - current_cost\n",
    "        if delta_e < 0 or probability(np.exp(-1 * delta_e / T)):\n",
    "            current = next_choice\n",
    "            states.append(next_cost)\n",
    "    return current, states[-1], states"
   ]
  },
  {
   "cell_type": "code",
   "execution_count": 16,
   "metadata": {
    "scrolled": true
   },
   "outputs": [],
   "source": [
    "distribution_solution = np.zeros((data.shape[0], depots.shape[0]))\n",
    "num_iterations = 50\n",
    "exp_schedule_k = 20\n",
    "exp_schedule_lam = 0.05\n",
    "total_cost = 0\n",
    "\n",
    "schedule = exp_schedule(exp_schedule_k, exp_schedule_lam, num_iterations)\n",
    "initial_solution = (result, cost)\n",
    "distribution_solution, total_cost, trace = simulated_annealing(\n",
    "    initial_solution,\n",
    "    num_iterations,\n",
    "    schedule,\n",
    "    random_search,\n",
    "    np.copy(data),\n",
    "    np.copy(demands),\n",
    "    np.copy(depots)\n",
    "    )"
   ]
  },
  {
   "cell_type": "code",
   "execution_count": 17,
   "metadata": {},
   "outputs": [
    {
     "name": "stdout",
     "output_type": "stream",
     "text": [
      "total cost: 90407.74747958986\n",
      "left over capacities: 6800.0\n",
      "remaining demand: 0.0\n"
     ]
    }
   ],
   "source": [
    "left_over_capacity = np.sum(1200 * np.ones(839) - np.sum(distribution_solution, axis=0))\n",
    "\n",
    "print(f\"total cost: {total_cost}\")\n",
    "print(f\"left over capacities: {np.sum(left_over_capacity)}\")\n",
    "print(f\"remaining demand: {np.sum(demands - np.sum(distribution_solution, axis=1))}\")"
   ]
  },
  {
   "cell_type": "code",
   "execution_count": 18,
   "metadata": {},
   "outputs": [
    {
     "data": {
      "text/plain": [
       "[<matplotlib.lines.Line2D at 0x1672be2c0>]"
      ]
     },
     "execution_count": 18,
     "metadata": {},
     "output_type": "execute_result"
    },
    {
     "data": {
      "image/png": "[encoded data removed]",
      "text/plain": [
       "<Figure size 640x480 with 1 Axes>"
      ]
     },
     "metadata": {},
     "output_type": "display_data"
    }
   ],
   "source": [
    "plt.plot(trace)"
   ]
  },
  {
   "cell_type": "code",
   "execution_count": null,
   "metadata": {},
   "outputs": [],
   "source": []
  }
 ],
 "metadata": {
  "colab": {
   "collapsed_sections": [
    "QlhCRdnX00cR",
    "m2MiHOst0wNa",
    "7TnEPEDstKWM"
   ],
   "provenance": []
  },
  "kernelspec": {
   "display_name": "ox",
   "language": "python",
   "name": "ox"
  },
  "language_info": {
   "codemirror_mode": {
    "name": "ipython",
    "version": 3
   },
   "file_extension": ".py",
   "mimetype": "text/x-python",
   "name": "python",
   "nbconvert_exporter": "python",
   "pygments_lexer": "ipython3",
   "version": "3.10.6"
  },
  "vscode": {
   "interpreter": {
    "hash": "bfdca1078342fb7b7960c976edeaa0caa85e92c78858a7cc93b2014872834663"
   }
  }
 },
 "nbformat": 4,
 "nbformat_minor": 1
}
